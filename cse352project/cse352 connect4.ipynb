{
 "cells": [
  {
   "cell_type": "code",
   "execution_count": 1,
   "metadata": {},
   "outputs": [],
   "source": [
    "import numpy as np\n",
    "import sys\n",
    "import math\n"
   ]
  },
  {
   "cell_type": "code",
   "execution_count": 3,
   "metadata": {},
   "outputs": [
    {
     "name": "stdout",
     "output_type": "stream",
     "text": [
      "[[0. 0. 0. 0. 0. 0. 0.]\n",
      " [0. 0. 0. 0. 0. 0. 0.]\n",
      " [0. 0. 0. 0. 0. 0. 0.]\n",
      " [0. 0. 0. 0. 0. 0. 0.]\n",
      " [0. 0. 0. 0. 0. 0. 0.]\n",
      " [0. 0. 0. 0. 0. 0. 0.]]\n"
     ]
    }
   ],
   "source": [
    "# global variable to denote the number of row and col in game board\n",
    "TOTAL_ROW_COUNT = 6\n",
    "TOTAL_COL_COUNT = 7\n",
    "\n",
    "\n",
    "# function to initialize the game board\n",
    "def make_board():\n",
    "    # using numpy fill a 6x7 with zeros as a board\n",
    "    board = np.zeros((TOTAL_ROW_COUNT, TOTAL_COL_COUNT))\n",
    "    # return created board\n",
    "    return board\n",
    "\n",
    "\n",
    "def print_board(board):\n",
    "    print(np.flip(board, 0))\n",
    "\n",
    "\n",
    "if __name__ == \"__main__\":\n",
    "    game_board = make_board()\n",
    "    print_board(game_board)\n"
   ]
  },
  {
   "cell_type": "code",
   "execution_count": null,
   "metadata": {},
   "outputs": [],
   "source": []
  }
 ],
 "metadata": {
  "kernelspec": {
   "display_name": "Python 3",
   "language": "python",
   "name": "python3"
  },
  "language_info": {
   "codemirror_mode": {
    "name": "ipython",
    "version": 3
   },
   "file_extension": ".py",
   "mimetype": "text/x-python",
   "name": "python",
   "nbconvert_exporter": "python",
   "pygments_lexer": "ipython3",
   "version": "3.8.5"
  }
 },
 "nbformat": 4,
 "nbformat_minor": 4
}
